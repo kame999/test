{
  "nbformat": 4,
  "nbformat_minor": 0,
  "metadata": {
    "colab": {
      "name": "calcNegaPosiScore.ipynb",
      "provenance": [],
      "collapsed_sections": [],
      "authorship_tag": "ABX9TyMnjK5ciAIKmK/8oTaJqnEj",
      "include_colab_link": true
    },
    "kernelspec": {
      "name": "python3",
      "display_name": "Python 3"
    }
  },
  "cells": [
    {
      "cell_type": "markdown",
      "metadata": {
        "id": "view-in-github",
        "colab_type": "text"
      },
      "source": [
        "<a href=\"https://colab.research.google.com/github/kame999/test/blob/master/calcNegaPosiScore.ipynb\" target=\"_parent\"><img src=\"https://colab.research.google.com/assets/colab-badge.svg\" alt=\"Open In Colab\"/></a>"
      ]
    },
    {
      "cell_type": "code",
      "metadata": {
        "id": "1uuoswBJIMEc",
        "colab_type": "code",
        "colab": {}
      },
      "source": [
        "import csv\n",
        "import requests\n",
        "import io\n",
        "\n",
        "\n",
        "def load_dict(url_file):\n",
        "  res = requests.get(url_file).content\n",
        "  lists = []\n",
        "  reader = csv.reader(io.StringIO(res.decode('utf-8')), delimiter='\\t')\n",
        "  for row in reader:\n",
        "    #print(reader.line_num,row[0])\n",
        "    lists.append(row)\n",
        "  return lists"
      ],
      "execution_count": 0,
      "outputs": []
    },
    {
      "cell_type": "code",
      "metadata": {
        "id": "b9W9ne8vd_ZB",
        "colab_type": "code",
        "colab": {}
      },
      "source": [
        "# 極性表現辞書をSNSテキストと同条件の形態素解析の原形を取得\n",
        "def normalize_dict(dict_list):\n",
        "  preprocess"
      ],
      "execution_count": 0,
      "outputs": []
    },
    {
      "cell_type": "code",
      "metadata": {
        "id": "1AnHkGKUaAhO",
        "colab_type": "code",
        "colab": {}
      },
      "source": [
        "# ネガポジ表現数を基にスコアリング\n",
        "def calc_score(input_text):\n",
        "  preprocess()"
      ],
      "execution_count": 0,
      "outputs": []
    },
    {
      "cell_type": "code",
      "metadata": {
        "id": "4njyccaOeDhW",
        "colab_type": "code",
        "colab": {}
      },
      "source": [
        "# 形態素解析\n",
        "def wakati(input_text):\n",
        "  preprocess()"
      ],
      "execution_count": 0,
      "outputs": []
    },
    {
      "cell_type": "code",
      "metadata": {
        "id": "d3o5Hn8fc5vM",
        "colab_type": "code",
        "colab": {
          "base_uri": "https://localhost:8080/",
          "height": 34
        },
        "outputId": "12f0265b-29ea-4453-ef1c-6365f9ea9530"
      },
      "source": [
        "# テストプログラム\n",
        "term_lists = load_dict('http://www.cl.ecei.tohoku.ac.jp/resources/sent_lex/wago.121808.pn')\n",
        "noun_lists = load_dict('http://www.cl.ecei.tohoku.ac.jp/resources/sent_lex/pn.csv.m3.120408.trim')"
      ],
      "execution_count": 20,
      "outputs": [
        {
          "output_type": "stream",
          "text": [
            "['ネガ（経験）', 'あがく']\n"
          ],
          "name": "stdout"
        }
      ]
    }
  ]
}